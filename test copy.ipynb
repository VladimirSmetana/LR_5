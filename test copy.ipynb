{
 "cells": [
  {
   "cell_type": "code",
   "execution_count": null,
   "id": "60dba8e3",
   "metadata": {},
   "outputs": [],
   "source": [
    "import numpy as np\n",
    "import tensorflow as tf\n",
    "from tensorflow.keras.models import Sequential\n",
    "from tensorflow.keras.layers import Input, Conv2D, MaxPooling2D, Flatten, Dense, Dropout, BatchNormalization\n",
    "from tensorflow.keras.utils import to_categorical\n",
    "from tensorflow.keras.datasets import fashion_mnist\n",
    "from tensorflow.keras.preprocessing.image import ImageDataGenerator\n",
    "from tensorflow.keras.callbacks import EarlyStopping, ReduceLROnPlateau, ModelCheckpoint\n",
    "import holoviews as hv\n",
    "from holoviews import opts\n"
   ]
  },
  {
   "cell_type": "code",
   "execution_count": null,
   "id": "84d54241",
   "metadata": {},
   "outputs": [],
   "source": [
    "# Загрузка данных\n",
    "Labels = ['T-shirt/top', 'Trouser', 'Pullover', 'Dress', 'Coat', 'Sandal', 'Shirt', 'Sneaker', 'Bag', 'Ankle boot']\n",
    "(X_train, y_train), (X_test_class, y_test_class) = fashion_mnist.load_data()\n",
    "(X_train, y_train), (X_test_class, y_test_class) = fashion_mnist.load_data()\n",
    "X_train = np.pad(X_train, ((0, 0), (2, 2), (2, 2)), mode='constant')  # Увеличиваем размер\n",
    "X_train = np.repeat(X_train[..., np.newaxis], 3, axis=-1) / 255.0  # Нормализация и преобразование в RGB\n",
    "X_test = np.pad(X_test_class, ((0, 0), (2, 2), (2, 2)), mode='constant')  # Увеличиваем размер\n",
    "X_test = np.repeat(X_test[..., np.newaxis], 3, axis=-1) / 255.0  # Нормализация и преобразование в RGB\n",
    "\n",
    "# Преобразование меток в категориальный формат\n",
    "y_train_categorical = to_categorical(y_train, num_classes=10)\n",
    "y_test_categorical = to_categorical(y_test_class, num_classes=10)"
   ]
  },
  {
   "cell_type": "code",
   "execution_count": null,
   "id": "8fd0302e",
   "metadata": {},
   "outputs": [],
   "source": [
    "print(X_train.min(), X_train.max())\n",
    "print(X_test.min(), X_test.max())"
   ]
  },
  {
   "cell_type": "code",
   "execution_count": null,
   "id": "cfeb2993",
   "metadata": {},
   "outputs": [],
   "source": [
    "datagen = ImageDataGenerator(\n",
    "    rotation_range=20,  # Увеличьте угол поворота\n",
    "    width_shift_range=0.2,  # Увеличьте сдвиг по ширине\n",
    "    height_shift_range=0.2,  # Увеличьте сдвиг по высоте\n",
    "    horizontal_flip=True,\n",
    "    zoom_range=0.2,  # Добавьте зум\n",
    "    shear_range=0.2  # Добавьте сдвиг\n",
    ")\n",
    "\n",
    "X_train = np.resize(X_train, (X_train.shape[0], 32, 32, 3))  # Пример изменения размера\n",
    "X_test = np.resize(X_test, (X_test.shape[0], 32, 32, 3))  # Пример изменения размера\n",
    "\n",
    "datagen.fit(X_train)"
   ]
  },
  {
   "cell_type": "code",
   "execution_count": null,
   "id": "8655e0e8",
   "metadata": {},
   "outputs": [],
   "source": [
    "import numpy as np\n",
    "import tensorflow as tf\n",
    "from tensorflow.keras.models import Sequential\n",
    "from tensorflow.keras.layers import Input, Conv2D, MaxPooling2D, Flatten, Dense, Dropout, BatchNormalization\n",
    "from tensorflow.keras.utils import to_categorical\n",
    "from tensorflow.keras.datasets import fashion_mnist\n",
    "from tensorflow.keras.preprocessing.image import ImageDataGenerator\n",
    "from tensorflow.keras.callbacks import EarlyStopping, ReduceLROnPlateau, ModelCheckpoint\n",
    "from tensorflow.keras import layers, models\n",
    "import holoviews as hv\n",
    "from holoviews import opts\n"
   ]
  },
  {
   "cell_type": "code",
   "execution_count": null,
   "id": "ceeb6ee7",
   "metadata": {},
   "outputs": [],
   "source": [
    "from tensorflow.keras.applications import VGG16\n",
    "def create_model():\n",
    "    base_model = VGG16(weights='imagenet', include_top=False, input_shape=(32, 32, 3))\n",
    "    model = Sequential()\n",
    "    model.add(base_model)\n",
    "    model.add(Flatten())\n",
    "    model.add(Dense(128, activation='relu'))\n",
    "    model.add(Dropout(0.5))\n",
    "    model.add(Dense(10, activation='softmax'))\n",
    "    \n",
    "    return model\n",
    "\n"
   ]
  },
  {
   "cell_type": "code",
   "execution_count": null,
   "id": "dec7df61",
   "metadata": {},
   "outputs": [],
   "source": [
    "model = create_model()\n",
    "model.summary()\n",
    "model.compile(optimizer=\"adam\",\n",
    "              loss=\"categorical_crossentropy\",  # Используем категориальную кросс-энтропию\n",
    "              metrics=[\"accuracy\"])\n",
    "\n"
   ]
  },
  {
   "cell_type": "code",
   "execution_count": null,
   "id": "567b5734",
   "metadata": {},
   "outputs": [],
   "source": [
    "early_stop = EarlyStopping(monitor='val_loss', patience=5, restore_best_weights=True)\n",
    "model_checkpoint = ModelCheckpoint('best_model.h5', save_best_only=True)\n",
    "reduce_lr = ReduceLROnPlateau(monitor='val_loss', factor=0.5, patience=3, min_lr=1e-6)\n",
    "\n",
    "history = model.fit(datagen.flow(X_train, y_train_categorical, batch_size=64),\n",
    "                    validation_data=(X_test, y_test_categorical),\n",
    "                    epochs=100,\n",
    "                    callbacks=[early_stop, model_checkpoint, reduce_lr])"
   ]
  },
  {
   "cell_type": "code",
   "execution_count": null,
   "id": "5cf695c8",
   "metadata": {},
   "outputs": [],
   "source": [
    "train_score = model.evaluate(X_train, y_train_categorical)\n",
    "print('Train score:', train_score)\n",
    "test_score = model.evaluate(X_test, y_test_categorical)\n",
    "print('Test score:', test_score)\n",
    "pred_probs = model.predict(X_test)\n",
    "y_pred = np.argmax(pred_probs, axis=1) # Получаем классы с максимальной вероятностью\n"
   ]
  },
  {
   "cell_type": "code",
   "execution_count": null,
   "id": "644d862f",
   "metadata": {},
   "outputs": [],
   "source": [
    "target_class = 8 # класс 'Bag'\n",
    "errors = np.where((y_test_class == target_class) & (y_pred != target_class))[0]\n",
    "misclassified_classes = y_pred[errors] # Классы, к которым были ошибочно отнесены\n",
    "misclassified_counts = np.bincount(misclassified_classes, minlength=10) # Считаем количество ошибок по классам\n",
    "for i, count in enumerate(misclassified_counts):\n",
    "    if count > 0:\n",
    "        print(f'Класс {Labels[i]} ошибочно классифицирован {count} раз(а).')"
   ]
  },
  {
   "cell_type": "code",
   "execution_count": null,
   "id": "2ae386c7",
   "metadata": {},
   "outputs": [],
   "source": [
    "hv.extension('bokeh')"
   ]
  },
  {
   "cell_type": "code",
   "execution_count": null,
   "id": "1bb1d4e3",
   "metadata": {},
   "outputs": [],
   "source": [
    "# Функция для отображения изображений с ошибками\n",
    "def draw_image_test(i):\n",
    "    return hv.Image(X_test[i]).opts(title=\"Predicted: %s | Actual: %s\" % (Labels[y_pred[i]], Labels[y_test_class[i]]),\n",
    "                                      xaxis='bare', yaxis='bare',\n",
    "                                      cmap='grey', height=300, width=300,\n",
    "                                      cnorm='linear')\n",
    "\n",
    "# Отображение изображений с ошибками\n",
    "img = {i: draw_image_test(i) for i in errors}\n",
    "NdLayout = hv.NdLayout(img).opts(title=\"Images predicted class\", height=2250, width=1200).cols(4)\n",
    "NdLayout"
   ]
  },
  {
   "cell_type": "code",
   "execution_count": null,
   "id": "8ffe2d6c",
   "metadata": {},
   "outputs": [],
   "source": [
    "# Сохранение модели\n",
    "model.save('fashion_mnist_model_30.keras')"
   ]
  }
 ],
 "metadata": {
  "kernelspec": {
   "display_name": "base",
   "language": "python",
   "name": "python3"
  },
  "language_info": {
   "codemirror_mode": {
    "name": "ipython",
    "version": 3
   },
   "file_extension": ".py",
   "mimetype": "text/x-python",
   "name": "python",
   "nbconvert_exporter": "python",
   "pygments_lexer": "ipython3",
   "version": "3.12.7"
  }
 },
 "nbformat": 4,
 "nbformat_minor": 5
}
